{
 "cells": [
  {
   "cell_type": "code",
   "execution_count": null,
   "id": "a7295ee9",
   "metadata": {},
   "outputs": [],
   "source": [
    "print(\"Hello, World!\")\n"
   ]
  }
 ],
 "metadata": {
  "language_info": {
   "name": "python"
  }
 },
 "nbformat": 4,
 "nbformat_minor": 5
}
